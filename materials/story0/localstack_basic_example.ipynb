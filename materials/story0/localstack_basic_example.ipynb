{
 "cells": [
  {
   "cell_type": "code",
   "execution_count": null,
   "metadata": {},
   "outputs": [],
   "source": [
    "'''\n",
    "\n",
    "安裝boto3\n",
    "安裝aws cli\n",
    "\n",
    "啟用jupyter的terminal，進行aws configure\n",
    "    access key id 與 secret access key 任意\n",
    "    並更改endpoint為localstack container name\n",
    "    output format 為 text\n",
    "    \n",
    "啟用boto3的s3客戶端\n",
    "\n",
    "訪問localstack的遠端s3資源\n",
    "\n",
    "\n",
    "'''"
   ]
  },
  {
   "cell_type": "code",
   "execution_count": null,
   "metadata": {},
   "outputs": [],
   "source": [
    "# 安裝boto3\n",
    "# 安裝aws cli\n",
    "!pip install boto3 awscli"
   ]
  },
  {
   "cell_type": "code",
   "execution_count": null,
   "metadata": {},
   "outputs": [],
   "source": [
    "# 啟用jupyter的terminal，進行aws configure"
   ]
  },
  {
   "cell_type": "code",
   "execution_count": null,
   "metadata": {},
   "outputs": [],
   "source": [
    "# 生成S3客戶端，並設定 localstack的遠端位置\n",
    "import boto3\n",
    "s3Client = boto3.client('s3', endpoint_url='http://localstack-main:4566')\n",
    "\n"
   ]
  },
  {
   "cell_type": "code",
   "execution_count": null,
   "metadata": {},
   "outputs": [],
   "source": [
    "# 訪問localstack的遠端s3資源\n",
    "\n",
    "response = s3Client.list_buckets()\n",
    "print(response)"
   ]
  }
 ],
 "metadata": {
  "kernelspec": {
   "display_name": "Python 3",
   "language": "python",
   "name": "python3"
  },
  "language_info": {
   "codemirror_mode": {
    "name": "ipython",
    "version": 3
   },
   "file_extension": ".py",
   "mimetype": "text/x-python",
   "name": "python",
   "nbconvert_exporter": "python",
   "pygments_lexer": "ipython3",
   "version": "3.6.4"
  }
 },
 "nbformat": 4,
 "nbformat_minor": 2
}
