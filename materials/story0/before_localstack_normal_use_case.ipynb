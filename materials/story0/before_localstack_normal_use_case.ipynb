{
 "cells": [
  {
   "cell_type": "code",
   "execution_count": null,
   "metadata": {},
   "outputs": [],
   "source": [
    "'''\n",
    "\n",
    "安裝 boto3\n",
    "嘗試用boto3與aws做互動\n",
    "\n",
    "將credential寫入程式碼\n",
    "再一次用boto3調度aws\n",
    "\n",
    "安裝awscli，並透過terminal創造隱藏設定檔\n",
    "再一次用boto3調度aws\n",
    "\n",
    "'''"
   ]
  },
  {
   "cell_type": "code",
   "execution_count": null,
   "metadata": {},
   "outputs": [],
   "source": [
    "# 安裝 boto3\n",
    "!pip install boto3"
   ]
  },
  {
   "cell_type": "code",
   "execution_count": null,
   "metadata": {},
   "outputs": [],
   "source": [
    "# 以boto3 跟 aws 的 s3服務互動\n",
    "\n",
    "# 引入套件\n",
    "import boto3\n",
    "\n",
    "# 創建s3客戶端，與AWS互動\n",
    "s3Client = boto3.client('s3')\n",
    "\n",
    "# 嘗試瀏覽s3內的桶子\n",
    "response = s3Client.list_buckets()\n",
    "print(response)"
   ]
  },
  {
   "cell_type": "code",
   "execution_count": null,
   "metadata": {},
   "outputs": [],
   "source": [
    "# 引入套件\n",
    "import boto3\n",
    "\n",
    "# 創建s3客戶端，並直接將credential寫進去，與AWS互動\n",
    "s3Client = boto3.client(\n",
    "    's3',\n",
    "    aws_access_key_id='',\n",
    "    aws_secret_access_key=''\n",
    "    \n",
    ")\n",
    "\n",
    "# 嘗試瀏覽s3內的桶子\n",
    "response = s3Client.list_buckets()\n",
    "print(response)"
   ]
  },
  {
   "cell_type": "code",
   "execution_count": null,
   "metadata": {},
   "outputs": [],
   "source": [
    "# 安裝 awscli\n",
    "!pip install awscli"
   ]
  },
  {
   "cell_type": "code",
   "execution_count": null,
   "metadata": {},
   "outputs": [],
   "source": [
    "# 啟用terminal，以aws configure 設定隱藏credential\n",
    "\n",
    "# 引入套件\n",
    "import boto3\n",
    "\n",
    "# 創建s3客戶端，與AWS互動\n",
    "s3Client = boto3.client('s3')\n",
    "\n",
    "# 嘗試瀏覽s3內的桶子\n",
    "response = s3Client.list_buckets()\n",
    "print(response)"
   ]
  },
  {
   "cell_type": "code",
   "execution_count": null,
   "metadata": {},
   "outputs": [],
   "source": []
  }
 ],
 "metadata": {
  "kernelspec": {
   "display_name": "Python 3",
   "language": "python",
   "name": "python3"
  },
  "language_info": {
   "codemirror_mode": {
    "name": "ipython",
    "version": 3
   },
   "file_extension": ".py",
   "mimetype": "text/x-python",
   "name": "python",
   "nbconvert_exporter": "python",
   "pygments_lexer": "ipython3",
   "version": "3.6.4"
  }
 },
 "nbformat": 4,
 "nbformat_minor": 2
}
