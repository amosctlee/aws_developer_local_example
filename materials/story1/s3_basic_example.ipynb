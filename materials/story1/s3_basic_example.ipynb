{
 "cells": [
  {
   "cell_type": "code",
   "execution_count": null,
   "metadata": {},
   "outputs": [],
   "source": [
    "'''\n",
    "\n",
    "install aws library\n",
    "create a client\n",
    "list all bucket in s3 \n",
    "create a bucket\n",
    "list bucket in s3 \n",
    "list object from bucket\n",
    "put object into bucket\n",
    "list object from bucket\n",
    "get object from bucket\n",
    "delete object from bucket\n",
    "list object from bucket\n",
    "\n",
    "'''"
   ]
  },
  {
   "cell_type": "code",
   "execution_count": null,
   "metadata": {},
   "outputs": [],
   "source": [
    "# install aws library\n",
    "!pip install boto3 awscli"
   ]
  },
  {
   "cell_type": "code",
   "execution_count": null,
   "metadata": {},
   "outputs": [],
   "source": [
    "# create a client\n",
    "\n",
    "import boto3\n",
    "s3Client = boto3.client('s3', endpoint_url='http://localstack-main:4566')"
   ]
  },
  {
   "cell_type": "code",
   "execution_count": null,
   "metadata": {},
   "outputs": [],
   "source": [
    "# list all bucket in s3 \n",
    "\n",
    "response = s3Client.list_buckets()\n",
    "print(response)"
   ]
  },
  {
   "cell_type": "code",
   "execution_count": null,
   "metadata": {},
   "outputs": [],
   "source": [
    "# create a bucket\n",
    "\n",
    "createBucketResult = s3Client.create_bucket(Bucket='cxcxc-aws-certificate')\n",
    "print(createBucketResult)"
   ]
  },
  {
   "cell_type": "code",
   "execution_count": null,
   "metadata": {},
   "outputs": [],
   "source": [
    "# list all bucket in s3 \n",
    "\n",
    "listResponse = s3Client.list_buckets()\n",
    "print(listResponse)"
   ]
  },
  {
   "cell_type": "code",
   "execution_count": null,
   "metadata": {},
   "outputs": [],
   "source": [
    "# list object from bucket\n",
    "\n",
    "listResponse = s3Client.list_objects_v2(\n",
    "    Bucket='cxcxc-aws-certificate',\n",
    "    MaxKeys=2,\n",
    ")\n",
    "print(listResponse)"
   ]
  },
  {
   "cell_type": "code",
   "execution_count": null,
   "metadata": {},
   "outputs": [],
   "source": [
    "# put object into bucket\n",
    "# response = s3Client.upload_file(file_name, bucket, object_name)\n",
    "\n",
    "uploadResponse = s3Client.upload_file('cxcxc-develope.txt', 'cxcxc-aws-certificate', 'cxcxc-develope')\n",
    "print(uploadResponse)"
   ]
  },
  {
   "cell_type": "code",
   "execution_count": null,
   "metadata": {},
   "outputs": [],
   "source": [
    "# list object from bucket\n",
    "\n",
    "listResponse = s3Client.list_objects_v2(\n",
    "    Bucket='cxcxc-aws-certificate',\n",
    "    MaxKeys=2,\n",
    ")\n",
    "print(listResponse)"
   ]
  },
  {
   "cell_type": "code",
   "execution_count": null,
   "metadata": {},
   "outputs": [],
   "source": [
    "# get object into bucket\n",
    "# response = s3Client.download_file('BUCKET_NAME', 'OBJECT_NAME', 'FILE_NAME')\n",
    "\n",
    "downloadResponse = s3Client.download_file('cxcxc-aws-certificate', 'cxcxc-develope', 'cxcxc-develope-2.txt')\n",
    "print(downloadResponse)"
   ]
  },
  {
   "cell_type": "code",
   "execution_count": null,
   "metadata": {},
   "outputs": [],
   "source": [
    "# delete object from bucket\n",
    "deleteResponse = s3Client.delete_object(\n",
    "    Bucket='cxcxc-aws-certificate',\n",
    "    Key='cxcxc-develope',\n",
    ")\n",
    "\n",
    "print(deleteResponse)"
   ]
  },
  {
   "cell_type": "code",
   "execution_count": null,
   "metadata": {},
   "outputs": [],
   "source": [
    "# list object from bucket\n",
    "\n",
    "listResponse = s3Client.list_objects_v2(\n",
    "    Bucket='cxcxc-aws-certificate',\n",
    "    MaxKeys=2,\n",
    ")\n",
    "print(listResponse)"
   ]
  },
  {
   "cell_type": "code",
   "execution_count": null,
   "metadata": {},
   "outputs": [],
   "source": []
  }
 ],
 "metadata": {
  "kernelspec": {
   "display_name": "Python 3",
   "language": "python",
   "name": "python3"
  },
  "language_info": {
   "codemirror_mode": {
    "name": "ipython",
    "version": 3
   },
   "file_extension": ".py",
   "mimetype": "text/x-python",
   "name": "python",
   "nbconvert_exporter": "python",
   "pygments_lexer": "ipython3",
   "version": "3.6.4"
  }
 },
 "nbformat": 4,
 "nbformat_minor": 2
}
