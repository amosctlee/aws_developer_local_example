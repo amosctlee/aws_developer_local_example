{
 "cells": [
  {
   "cell_type": "code",
   "execution_count": null,
   "metadata": {},
   "outputs": [],
   "source": [
    "'''\n",
    "\n",
    "multiple upload\n",
    "https://boto3.amazonaws.com/v1/documentation/api/latest/guide/s3.html#multipart-transfers\n",
    "\n",
    "\n",
    "\n",
    "'''\n"
   ]
  },
  {
   "cell_type": "code",
   "execution_count": null,
   "metadata": {},
   "outputs": [],
   "source": [
    "# 先下載一個大型檔案，當作練習素材\n",
    "\n",
    "import requests\n",
    "\n",
    "print('Beginning file download with requests')\n",
    "\n",
    "url = 'http://edu.ocac.gov.tw/biweekly/477/download/htm.zip'\n",
    "r = requests.get(url)\n",
    "\n",
    "with open('./cxcxc.zip', 'wb') as f:\n",
    "    f.write(r.content)"
   ]
  },
  {
   "cell_type": "code",
   "execution_count": null,
   "metadata": {},
   "outputs": [],
   "source": [
    "# 啟動客戶端\n",
    "\n",
    "import boto3\n",
    "s3Client = boto3.client('s3', endpoint_url='http://localstack-main:4566')"
   ]
  },
  {
   "cell_type": "code",
   "execution_count": null,
   "metadata": {},
   "outputs": [],
   "source": [
    "'''\n",
    "\n",
    "multiple upload - 切多份\n",
    "https://boto3.amazonaws.com/v1/documentation/api/latest/guide/s3.html#multipart-transfers\n",
    "https://boto3.amazonaws.com/v1/documentation/api/latest/_modules/boto3/s3/transfer.html#TransferConfig\n",
    "\n",
    "'''\n",
    "\n",
    "import boto3\n",
    "from boto3.s3.transfer import TransferConfig\n",
    "\n",
    "# Set the desired multipart threshold value (5GB)\n",
    "MB = 1024 * 1024\n",
    "config = TransferConfig(multipart_threshold=5*MB)\n",
    "\n",
    "# Perform the transfer\n",
    "# s3.upload_file('FILE_NAME', 'BUCKET_NAME', 'OBJECT_NAME', Config=config)\n",
    "s3Client.upload_file('cxcxc.zip', 'cxcxc-aws-certificate', 'cxcxc.zip', Config=config)\n"
   ]
  },
  {
   "cell_type": "code",
   "execution_count": null,
   "metadata": {},
   "outputs": [],
   "source": [
    "# 瀏覽檔案\n",
    "\n",
    "# list object from bucket\n",
    "\n",
    "import boto3\n",
    "\n",
    "from pprint import pprint\n",
    "\n",
    "listResponse = s3Client.list_objects_v2(\n",
    "    Bucket='cxcxc-aws-certificate',\n",
    "    MaxKeys=2,\n",
    ")\n",
    "\n",
    "# 觀察Content的部分\n",
    "pprint(listResponse)"
   ]
  },
  {
   "cell_type": "code",
   "execution_count": null,
   "metadata": {},
   "outputs": [],
   "source": [
    "'''\n",
    "\n",
    "multiple upload - 切多份，預設會用很多Thread同時傳，可指定要幾個\n",
    "https://boto3.amazonaws.com/v1/documentation/api/latest/guide/s3.html#concurrent-transfer-operations\n",
    "\n",
    "'''\n",
    "\n",
    "# To consume less downstream bandwidth, decrease the maximum concurrency\n",
    "# The attribute's default setting is 10. \n",
    "config = TransferConfig(max_concurrency=5)\n",
    "\n",
    "# Download an S3 object\n",
    "# s3.upload_file('FILE_NAME', 'BUCKET_NAME', 'OBJECT_NAME', Config=config)\n",
    "uploadResult = s3Client.upload_file('cxcxc.zip', 'cxcxc-aws-certificate', 'cxcxc2.zip', Config=config)\n",
    "\n",
    "print(uploadResult)"
   ]
  },
  {
   "cell_type": "code",
   "execution_count": null,
   "metadata": {},
   "outputs": [],
   "source": [
    "# 瀏覽檔案\n",
    "\n",
    "# list object from bucket\n",
    "\n",
    "import boto3\n",
    "\n",
    "listResponse = s3Client.list_objects_v2(\n",
    "    Bucket='cxcxc-aws-certificate',\n",
    "\n",
    "    MaxKeys=2,\n",
    ")\n",
    "\n",
    "from pprint import pprint\n",
    "\n",
    "# 觀察Content的部分\n",
    "pprint(listResponse)"
   ]
  },
  {
   "cell_type": "code",
   "execution_count": null,
   "metadata": {},
   "outputs": [],
   "source": [
    "'''\n",
    "\n",
    "multiple upload - 切多份，不要同時傳\n",
    "https://boto3.amazonaws.com/v1/documentation/api/latest/guide/s3.html#threads\n",
    "\n",
    "\n",
    "'''\n",
    "\n",
    "# Disable thread use/transfer concurrency\n",
    "config = TransferConfig(use_threads=False)\n",
    "\n",
    "# s3.upload_file('FILE_NAME', 'BUCKET_NAME', 'OBJECT_NAME', Config=config)\n",
    "uploadResult = s3Client.upload_file('cxcxc.zip', 'cxcxc-aws-certificate', 'cxcxc3.zip', Config=config)\n",
    "\n",
    "# 打印結果\n",
    "print(uploadResult)"
   ]
  },
  {
   "cell_type": "code",
   "execution_count": null,
   "metadata": {},
   "outputs": [],
   "source": [
    "'''\n",
    "\n",
    "byte request get\n",
    "https://boto3.amazonaws.com/v1/documentation/api/latest/reference/services/s3.html#S3.Client.get_object\n",
    "\n",
    "\n",
    "'''\n",
    "\n",
    "# 取得物件的部分內容\n",
    "partResult = s3Client.get_object(Bucket='cxcxc-aws-certificate',Key='cxcxc3.zip',Range='bytes=0-9')\n",
    "\n",
    "# 觀察ContentRange\n",
    "from pprint import pprint\n",
    "pprint(partResult)"
   ]
  },
  {
   "cell_type": "code",
   "execution_count": null,
   "metadata": {},
   "outputs": [],
   "source": [
    "# multiple_download\n",
    "\n",
    "import boto3\n",
    "from boto3.s3.transfer import TransferConfig\n",
    "\n",
    "# Set the desired multipart threshold value (5GB)\n",
    "MB = 1024 * 1024\n",
    "config = TransferConfig(multipart_threshold=5*MB)\n",
    "\n",
    "# Perform the transfer\n",
    "# s3.download_file('BUCKET_NAME', 'OBJECT_NAME', 'FILE_NAME')\n",
    "downloadResult = s3Client.download_file('cxcxc-aws-certificate', 'cxcxc.zip', 'cxcxc4.zip', Config=config)\n",
    "\n",
    "# 觀察ContentRange\n",
    "from pprint import pprint\n",
    "pprint(downloadResult)"
   ]
  },
  {
   "cell_type": "code",
   "execution_count": null,
   "metadata": {},
   "outputs": [],
   "source": []
  }
 ],
 "metadata": {
  "kernelspec": {
   "display_name": "Python 3",
   "language": "python",
   "name": "python3"
  },
  "language_info": {
   "codemirror_mode": {
    "name": "ipython",
    "version": 3
   },
   "file_extension": ".py",
   "mimetype": "text/x-python",
   "name": "python",
   "nbconvert_exporter": "python",
   "pygments_lexer": "ipython3",
   "version": "3.6.4"
  }
 },
 "nbformat": 4,
 "nbformat_minor": 2
}
