{
 "cells": [
  {
   "cell_type": "code",
   "execution_count": null,
   "metadata": {},
   "outputs": [],
   "source": [
    "'''\n",
    "\n",
    "以先前案例組合而成\n",
    "\n",
    "s3客戶端生成\n",
    "dynamo客戶端生成\n",
    "flask app生成\n",
    "\n",
    "若無S3桶子\n",
    "    創建S3桶子\n",
    "若無DynamoDB Tabel\n",
    "    創建DynamoDB Tabel\n",
    "\n",
    "第一個方法-\n",
    "    用戶訪問網站\n",
    "    看見上傳網站頁面，下方有目前已上傳圖片的表格清單，表格內要有s3的連結名\n",
    "\n",
    "第二個方法\n",
    "    用戶上傳圖片\n",
    "    伺服器收到Request\n",
    "    生成pre-sign url，上傳的檔案預設需公開\n",
    "    並插入資料至dynamodb\n",
    "    讓用戶將圖片傳至pre-sign url\n",
    "    看見上傳網站頁面，下方有目前已上傳圖片的表格清單，表格內要有s3的連結名\n",
    "\n",
    "第三個方法\n",
    "    啟動flask app，使外部port 5000能訪問\n",
    "\n",
    "\n",
    "'''"
   ]
  },
  {
   "cell_type": "code",
   "execution_count": null,
   "metadata": {},
   "outputs": [],
   "source": [
    "'''\n",
    "\n",
    "s3客戶端生成\n",
    "dynamo客戶端生成\n",
    "flask app生成\n",
    "\n",
    "'''"
   ]
  },
  {
   "cell_type": "code",
   "execution_count": null,
   "metadata": {},
   "outputs": [],
   "source": [
    "'''\n",
    "\n",
    "若無S3桶子\n",
    "    創建S3桶子\n",
    "若無DynamoDB Tabel\n",
    "    創建DynamoDB Tabel\n",
    "\n",
    "'''"
   ]
  },
  {
   "cell_type": "code",
   "execution_count": null,
   "metadata": {},
   "outputs": [],
   "source": [
    "'''\n",
    "\n",
    "第一個方法-\n",
    "    用戶訪問網站\n",
    "    看見上傳網站頁面，下方有目前已上傳圖片的表格清單，表格內要有s3的連結名\n",
    "\n",
    "'''"
   ]
  },
  {
   "cell_type": "code",
   "execution_count": null,
   "metadata": {},
   "outputs": [],
   "source": [
    "'''\n",
    "第二個方法\n",
    "    用戶上傳圖片\n",
    "    伺服器收到Request\n",
    "    生成pre-sign url，上傳的檔案預設需公開\n",
    "    並插入資料至dynamodb\n",
    "    讓用戶將圖片傳至pre-sign url\n",
    "    看見上傳網站頁面，下方有目前已上傳圖片的表格清單，表格內要有s3的連結名\n",
    "\n",
    "'''"
   ]
  },
  {
   "cell_type": "code",
   "execution_count": null,
   "metadata": {},
   "outputs": [],
   "source": [
    "'''\n",
    "第三個方法\n",
    "    啟動flask app，使外部port 5000能訪問\n",
    "\n",
    "'''"
   ]
  }
 ],
 "metadata": {
  "kernelspec": {
   "display_name": "Python 3",
   "language": "python",
   "name": "python3"
  },
  "language_info": {
   "codemirror_mode": {
    "name": "ipython",
    "version": 3
   },
   "file_extension": ".py",
   "mimetype": "text/x-python",
   "name": "python",
   "nbconvert_exporter": "python",
   "pygments_lexer": "ipython3",
   "version": "3.6.4"
  }
 },
 "nbformat": 4,
 "nbformat_minor": 2
}
