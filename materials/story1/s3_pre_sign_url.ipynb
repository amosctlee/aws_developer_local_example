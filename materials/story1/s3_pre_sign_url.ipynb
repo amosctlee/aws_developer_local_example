{
 "cells": [
  {
   "cell_type": "code",
   "execution_count": null,
   "metadata": {},
   "outputs": [],
   "source": [
    "'''\n",
    "https://boto3.amazonaws.com/v1/documentation/api/latest/reference/services/s3.html#S3.Client.generate_presigned_url\n",
    "https://boto3.amazonaws.com/v1/documentation/api/latest/reference/services/s3.html#S3.Client.generate_presigned_post\n",
    "\n",
    "pre-sign url upload file\n",
    "https://boto3.amazonaws.com/v1/documentation/api/latest/guide/s3-presigned-urls.html#generating-a-presigned-url-to-upload-a-file\n",
    "\n",
    "\n",
    "pre-sign url download file from s3\n",
    "https://boto3.amazonaws.com/v1/documentation/api/latest/guide/s3-presigned-urls.html\n",
    "\n",
    "'''\n",
    "\n"
   ]
  },
  {
   "cell_type": "code",
   "execution_count": null,
   "metadata": {},
   "outputs": [],
   "source": [
    "# 先下載一個檔案，當作練習素材\n",
    "\n",
    "import requests\n",
    "\n",
    "print('Beginning file download with requests')\n",
    "\n",
    "url = 'https://jsonplaceholder.typicode.com/posts'\n",
    "r = requests.get(url)\n",
    "\n",
    "with open('./posts.json', 'w') as f:\n",
    "    f.write(str(r.content))"
   ]
  },
  {
   "cell_type": "code",
   "execution_count": null,
   "metadata": {},
   "outputs": [],
   "source": [
    "# 啟用客戶端\n",
    "import boto3\n",
    "s3Client = boto3.client('s3', endpoint_url='http://localstack-main:4572')"
   ]
  },
  {
   "cell_type": "code",
   "execution_count": null,
   "metadata": {},
   "outputs": [],
   "source": [
    "# 取得pre-sign url\n",
    "# response = s3_client.generate_presigned_post(bucket_name,\n",
    "#                                                      object_name,\n",
    "#                                                      Fields=fields,\n",
    "#                                                      Conditions=conditions,\n",
    "#                                                      ExpiresIn=expiration)\n",
    "\n",
    "preSignUrlUploadResponse = s3Client.generate_presigned_post(\n",
    "    Bucket='cxcxc-aws-certificate',\n",
    "    Key='cxcxc-pre-sign-upload.json',\n",
    ")\n",
    "\n",
    "print(preSignUrlUploadResponse)"
   ]
  },
  {
   "cell_type": "code",
   "execution_count": null,
   "metadata": {},
   "outputs": [],
   "source": [
    "# 使用Request 上傳\n",
    "# Demonstrate how another Python program can use the presigned URL to upload a file\n",
    "with open('posts.json', 'r') as f:\n",
    "    files = {'file': ('posts.json', f)}\n",
    "    http_response = requests.post(\n",
    "        'http://localstack-main:4572/cxcxc-aws-certificate', \n",
    "        data=preSignUrlUploadResponse['fields'], \n",
    "        files=files\n",
    "    )\n",
    "print(http_response)"
   ]
  },
  {
   "cell_type": "code",
   "execution_count": null,
   "metadata": {},
   "outputs": [],
   "source": [
    "# 使用list確認\n",
    "# list object from bucket\n",
    "\n",
    "listResponse = s3Client.list_objects_v2(\n",
    "    Bucket='cxcxc-aws-certificate',\n",
    "    MaxKeys=10,\n",
    ")\n",
    "\n",
    "from pprint import pprint\n",
    "pprint(listResponse)"
   ]
  },
  {
   "cell_type": "code",
   "execution_count": null,
   "metadata": {},
   "outputs": [],
   "source": [
    "# 透過request模組進行下載\n",
    "import requests\n",
    "\n",
    "print('Beginning file download with requests')\n",
    "\n",
    "url = 'http://localstack-main:4572/cxcxc-aws-certificate/cxcxc-pre-sign-upload.json'\n",
    "r = requests.get(url)\n",
    "\n",
    "with open('./posts123.json', 'w') as f:\n",
    "    f.write(str(r.content))"
   ]
  },
  {
   "cell_type": "code",
   "execution_count": null,
   "metadata": {},
   "outputs": [],
   "source": [
    "downloadResponse = s3Client.download_file('cxcxc-aws-certificate','cxcxc-pre-sign-upload.json',  'posts123.json')\n",
    "print(downloadResponse)"
   ]
  },
  {
   "cell_type": "code",
   "execution_count": null,
   "metadata": {},
   "outputs": [],
   "source": [
    "# 生成pre-sign url，供下載使用\n",
    "downloadPreSignUrl = s3Client.generate_presigned_url('get_object',\n",
    "    Params={'Bucket': 'cxcxc-aws-certificate',\n",
    "            'Key': 'cxcxc-pre-sign-upload.json'},\n",
    ")\n",
    "\n",
    "print(downloadPreSignUrl)"
   ]
  },
  {
   "cell_type": "code",
   "execution_count": null,
   "metadata": {},
   "outputs": [],
   "source": [
    "# 透過request模組進行下載\n",
    "# 先下載一個大型檔案，當作練習素材\n",
    "\n",
    "import requests\n",
    "\n",
    "print('Beginning file download with requests')\n",
    "\n",
    "r = requests.get(downloadPreSignUrl)\n",
    "\n",
    "with open('./cxcxc-pre-sign-url.json', 'w') as f:\n",
    "    f.write(str(r.content))\n"
   ]
  },
  {
   "cell_type": "code",
   "execution_count": null,
   "metadata": {},
   "outputs": [],
   "source": []
  }
 ],
 "metadata": {
  "kernelspec": {
   "display_name": "Python 3",
   "language": "python",
   "name": "python3"
  },
  "language_info": {
   "codemirror_mode": {
    "name": "ipython",
    "version": 3
   },
   "file_extension": ".py",
   "mimetype": "text/x-python",
   "name": "python",
   "nbconvert_exporter": "python",
   "pygments_lexer": "ipython3",
   "version": "3.6.4"
  }
 },
 "nbformat": 4,
 "nbformat_minor": 2
}
