{
 "cells": [
  {
   "cell_type": "code",
   "execution_count": null,
   "metadata": {},
   "outputs": [],
   "source": [
    "\"\"\"\n",
    "\n",
    "    List How many queues in SQS service \n",
    "    Create a queue\n",
    "    List How many queues in SQS service \n",
    "    List messages in queue\n",
    "    Put a message into queue\n",
    "    List messages in queue\n",
    "    Get a message from queue\n",
    "    List messages in queue (the message invisible)\n",
    "    wait 10 seconds\n",
    "    List messages in queue (the message visible)\n",
    "    Get a message from queue and delete message from queue\n",
    "    wait 10 second\n",
    "    List messages in queue (the message visible)\n",
    "\n",
    "\n",
    "\"\"\""
   ]
  },
  {
   "cell_type": "code",
   "execution_count": null,
   "metadata": {},
   "outputs": [],
   "source": [
    "# !pip install boto3 awscli"
   ]
  },
  {
   "cell_type": "code",
   "execution_count": null,
   "metadata": {},
   "outputs": [],
   "source": [
    "import boto3\n",
    "\n",
    "# Get the service resource\n",
    "sqs_client = boto3.client('sqs', endpoint_url='http://localstack-main:4566')\n"
   ]
  },
  {
   "cell_type": "code",
   "execution_count": null,
   "metadata": {},
   "outputs": [],
   "source": [
    "# List How many queues in SQS service \n",
    "\n",
    "print(sqs_client.list_queues())\n",
    "print(sqs_client.list_queues().get('QueueUrls'))\n"
   ]
  },
  {
   "cell_type": "code",
   "execution_count": null,
   "metadata": {},
   "outputs": [],
   "source": [
    "# Create a queue\n",
    "\n",
    "response = sqs_client.create_queue(\n",
    "    QueueName='whatever_you_like',\n",
    ")\n",
    "response\n",
    "\n",
    "\n",
    "# # Deletes the queue specified by the QueueUrl , \n",
    "# #     regardless of the queue's contents. \n",
    "\n",
    "# response = sqs_client.delete_queue(\n",
    "#     QueueUrl='http://localhost:4566/queue/whatever_you_like'\n",
    "# )\n",
    "# response"
   ]
  },
  {
   "cell_type": "code",
   "execution_count": null,
   "metadata": {},
   "outputs": [],
   "source": [
    "# List How many queues in SQS service \n",
    "\n",
    "print(sqs_client.list_queues())\n",
    "print(sqs_client.list_queues().get('QueueUrls'))\n"
   ]
  },
  {
   "cell_type": "code",
   "execution_count": null,
   "metadata": {},
   "outputs": [],
   "source": [
    "# List messages in queue\n",
    "response = sqs_client.receive_message(\n",
    "    QueueUrl='http://localhost:4566/queue/whatever_you_like',\n",
    "    MaxNumberOfMessages=10, # Retrieves one or more messages (up to 10)\n",
    "    WaitTimeSeconds=3,  # 設為 0 時: 短輪詢；大於 0 時: 長輪詢(上限20秒)。\n",
    ")\n",
    "\n",
    "response"
   ]
  },
  {
   "cell_type": "code",
   "execution_count": null,
   "metadata": {},
   "outputs": [],
   "source": [
    "# Put a message into queue\n",
    "\n",
    "# MessageBody (string) [REQUIRED]\n",
    "# The message to send. The maximum string size is 256 KB.\n",
    "\n",
    "response = sqs_client.send_message(QueueUrl='http://localhost:4566/queue/whatever_you_like',\n",
    "                               MessageBody='this is a message, please get it..')\n",
    "response"
   ]
  },
  {
   "cell_type": "code",
   "execution_count": null,
   "metadata": {},
   "outputs": [],
   "source": [
    "# List messages in queue\n",
    "\n",
    "response = sqs_client.receive_message(\n",
    "    QueueUrl='http://localhost:4566/queue/whatever_you_like',\n",
    "    MaxNumberOfMessages=10, # Retrieves one or more messages (up to 10)\n",
    "    WaitTimeSeconds=0,  # 設為 0 時: 短輪詢；大於 0 時: 長輪詢(上限20秒)。\n",
    ")\n",
    "\n",
    "response"
   ]
  },
  {
   "cell_type": "code",
   "execution_count": null,
   "metadata": {},
   "outputs": [],
   "source": [
    "# Get a message from queue\n",
    "response = sqs_client.receive_message(\n",
    "    QueueUrl='http://localhost:4566/queue/whatever_you_like',\n",
    "    MaxNumberOfMessages=1, # Retrieves one or more messages (up to 10)\n",
    "    WaitTimeSeconds=5,  # 設為 0 時: 短輪詢；大於 0 時: 長輪詢(上限20秒)。\n",
    ")\n",
    "\n",
    "response.get('Messages')"
   ]
  },
  {
   "cell_type": "code",
   "execution_count": null,
   "metadata": {},
   "outputs": [],
   "source": [
    "# List messages in queue (the message invisible)\n",
    "# wait 10 seconds\n",
    "# List messages in queue (the message visible)\n",
    "\n",
    "# https://docs.aws.amazon.com/zh_tw/AWSSimpleQueueService/latest/SQSDeveloperGuide/sqs-delay-queues.html\n",
    "# 可見性逾時 VisibilityTimeout: \n",
    "#     接收消息時設定，訊息的預設可見性逾時為 30 秒。下限為 0 秒。上限為 12 小時。\n",
    "\n",
    "import time\n",
    "\n",
    "response = sqs_client.receive_message(\n",
    "    QueueUrl='http://localhost:4566/queue/whatever_you_like',\n",
    "    MaxNumberOfMessages=10, # Retrieves one or more messages (up to 10)\n",
    "    WaitTimeSeconds=0,  # 設為 0 時: 短輪詢；大於 0 時: 長輪詢(上限20秒)。\n",
    "    VisibilityTimeout=10,\n",
    ")\n",
    "print(\"有多少訊息: \", len(response.get('Messages')) if response.get('Messages') else 0)\n",
    "print(response.get('Messages'))\n",
    "\n",
    "# time.sleep(10)\n",
    "\n",
    "# response = sqs_client.receive_message(\n",
    "#     QueueUrl='http://localhost:4566/queue/whatever_you_like',\n",
    "#     MaxNumberOfMessages=10, # Retrieves one or more messages (up to 10)\n",
    "#     WaitTimeSeconds=5,  # 設為 0 時: 短輪詢；大於 0 時: 長輪詢(上限20秒)。\n",
    "#     VisibilityTimeout=10,\n",
    "# )\n",
    "# print(response)\n"
   ]
  },
  {
   "cell_type": "code",
   "execution_count": null,
   "metadata": {},
   "outputs": [],
   "source": [
    "# Get a message from queue and delete message from queue\n",
    "# wait 10 second\n",
    "# List messages in queue (the message visible)\n",
    "\n",
    "# 取得一筆訊息\n",
    "response = sqs_client.receive_message(\n",
    "    QueueUrl='http://localhost:4566/queue/whatever_you_like',\n",
    "    MaxNumberOfMessages=1, # Retrieves one or more messages (up to 10)\n",
    "    WaitTimeSeconds=0,  # 設為 0 時: 短輪詢；大於 0 時: 長輪詢(上限20秒)。\n",
    "    VisibilityTimeout=0,\n",
    ")\n",
    "print(response.get('Messages'))\n",
    "print(response.get('Messages')[0].get('ReceiptHandle'))\n",
    "\n",
    "# 使用ReceiptHandle 刪除此訊息，每次接收訊息 ReceiptHandle 都會不一樣\n",
    "response = sqs_client.delete_message(\n",
    "    QueueUrl='http://localhost:4566/queue/whatever_you_like',\n",
    "    ReceiptHandle=response.get('Messages')[0].get('ReceiptHandle')\n",
    ")\n",
    "print('刪除訊息: ', response)\n",
    "\n",
    "# 再次收取訊息\n",
    "response = sqs_client.receive_message(\n",
    "    QueueUrl='http://localhost:4566/queue/whatever_you_like',\n",
    "    MaxNumberOfMessages=10, # Retrieves one or more messages (up to 10)\n",
    "    WaitTimeSeconds=0,  # 設為 0 時: 短輪詢；大於 0 時: 長輪詢(上限20秒)。\n",
    "    VisibilityTimeout=0,  \n",
    ")\n",
    "print(response.get('Messages'))"
   ]
  },
  {
   "cell_type": "code",
   "execution_count": null,
   "metadata": {},
   "outputs": [],
   "source": []
  }
 ],
 "metadata": {
  "kernelspec": {
   "display_name": "Python 3",
   "language": "python",
   "name": "python3"
  },
  "language_info": {
   "codemirror_mode": {
    "name": "ipython",
    "version": 3
   },
   "file_extension": ".py",
   "mimetype": "text/x-python",
   "name": "python",
   "nbconvert_exporter": "python",
   "pygments_lexer": "ipython3",
   "version": "3.7.4"
  }
 },
 "nbformat": 4,
 "nbformat_minor": 4
}
